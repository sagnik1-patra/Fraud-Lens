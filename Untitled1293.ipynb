{
 "cells": [
  {
   "cell_type": "code",
   "execution_count": 1,
   "id": "3b559108-5034-4d8e-802d-f604e737c69c",
   "metadata": {},
   "outputs": [
    {
     "name": "stdout",
     "output_type": "stream",
     "text": [
      "[SAVED] C:\\Users\\sagni\\Downloads\\FraudLens\\fraudlens_scored.csv\n",
      "ROC-AUC: 0.999850007272637  PR-AUC: 0.9998920620685758\n",
      "              precision    recall  f1-score   support\n",
      "\n",
      "           0     0.9970    0.9991    0.9981    284315\n",
      "           1     0.9991    0.9970    0.9981    284315\n",
      "\n",
      "    accuracy                         0.9981    568630\n",
      "   macro avg     0.9981    0.9981    0.9981    568630\n",
      "weighted avg     0.9981    0.9981    0.9981    568630\n",
      "\n"
     ]
    }
   ],
   "source": [
    "from pathlib import Path\n",
    "import re, json\n",
    "import numpy as np\n",
    "import pandas as pd\n",
    "import joblib\n",
    "from sklearn.metrics import roc_auc_score, average_precision_score, classification_report, confusion_matrix\n",
    "\n",
    "# -----------------------------\n",
    "# Hard-coded paths (edit here)\n",
    "# -----------------------------\n",
    "MODEL_PATH = Path(r\"C:\\Users\\sagni\\Downloads\\FraudLens\\fraudlens_model.pkl\")\n",
    "CSV_PATH   = Path(r\"C:\\Users\\sagni\\Downloads\\FraudLens\\archive\\creditcard_2023.csv\")\n",
    "OUT_DIR    = Path(r\"C:\\Users\\sagni\\Downloads\\FraudLens\")\n",
    "THRESHOLD  = 0.5\n",
    "OUT_DIR.mkdir(parents=True, exist_ok=True)\n",
    "\n",
    "# -----------------------------\n",
    "# Load model + data\n",
    "# -----------------------------\n",
    "pipe = joblib.load(MODEL_PATH)\n",
    "df = pd.read_csv(CSV_PATH)\n",
    "\n",
    "# Detect label if present\n",
    "def find_label_col(cols):\n",
    "    pats = [r\"class\", r\"label\", r\"target\", r\"fraud\"]\n",
    "    norm = {c: re.sub(r\"[^a-z0-9]+\",\" \",str(c).lower()).strip() for c in cols}\n",
    "    for c, nc in norm.items():\n",
    "        for p in pats:\n",
    "            if re.search(p, nc):\n",
    "                return c\n",
    "    return None\n",
    "\n",
    "label_col = find_label_col(df.columns)\n",
    "y_true = None\n",
    "if label_col:\n",
    "    y_true = (df[label_col].astype(float) > 0).astype(int).values\n",
    "\n",
    "# Features\n",
    "num_df = df.select_dtypes(include=[np.number])\n",
    "if label_col in num_df.columns:\n",
    "    X = num_df.drop(columns=[label_col])\n",
    "else:\n",
    "    X = num_df\n",
    "X = X.fillna(0.0).astype(float)\n",
    "\n",
    "# -----------------------------\n",
    "# Predict\n",
    "# -----------------------------\n",
    "probs = pipe.predict_proba(X.values)[:, 1]\n",
    "preds = (probs >= THRESHOLD).astype(int)\n",
    "\n",
    "out = pd.DataFrame({\"prob_fraud\": probs, \"y_pred\": preds})\n",
    "if y_true is not None:\n",
    "    out[\"y_true\"] = y_true\n",
    "\n",
    "out.to_csv(OUT_DIR / \"fraudlens_scored.csv\", index=False)\n",
    "print(\"[SAVED]\", OUT_DIR / \"fraudlens_scored.csv\")\n",
    "\n",
    "# Metrics if labels available\n",
    "if y_true is not None:\n",
    "    roc_auc = roc_auc_score(y_true, probs)\n",
    "    pr_auc  = average_precision_score(y_true, probs)\n",
    "    cm      = confusion_matrix(y_true, preds, labels=[0,1])\n",
    "    report  = classification_report(y_true, preds, digits=4)\n",
    "    print(\"ROC-AUC:\", roc_auc, \" PR-AUC:\", pr_auc)\n",
    "    print(report)\n"
   ]
  },
  {
   "cell_type": "code",
   "execution_count": null,
   "id": "f6a85a38-18e1-41e6-a2dd-798045e8e8d5",
   "metadata": {},
   "outputs": [],
   "source": []
  }
 ],
 "metadata": {
  "kernelspec": {
   "display_name": "Python 3.11 (moviepy)",
   "language": "python",
   "name": "py311"
  },
  "language_info": {
   "codemirror_mode": {
    "name": "ipython",
    "version": 3
   },
   "file_extension": ".py",
   "mimetype": "text/x-python",
   "name": "python",
   "nbconvert_exporter": "python",
   "pygments_lexer": "ipython3",
   "version": "3.11.9"
  }
 },
 "nbformat": 4,
 "nbformat_minor": 5
}
